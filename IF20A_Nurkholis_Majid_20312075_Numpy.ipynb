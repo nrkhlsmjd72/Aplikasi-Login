{
  "nbformat": 4,
  "nbformat_minor": 0,
  "metadata": {
    "colab": {
      "provenance": [],
      "authorship_tag": "ABX9TyMLiDXxthmHybjxmAwDxz7T",
      "include_colab_link": true
    },
    "kernelspec": {
      "name": "python3",
      "display_name": "Python 3"
    },
    "language_info": {
      "name": "python"
    }
  },
  "cells": [
    {
      "cell_type": "markdown",
      "metadata": {
        "id": "view-in-github",
        "colab_type": "text"
      },
      "source": [
        "<a href=\"https://colab.research.google.com/github/nrkhlsmjd72/Aplikasi-Login/blob/main/IF20A_Nurkholis_Majid_20312075_Numpy.ipynb\" target=\"_parent\"><img src=\"https://colab.research.google.com/assets/colab-badge.svg\" alt=\"Open In Colab\"/></a>"
      ]
    },
    {
      "cell_type": "markdown",
      "source": [
        "Extending Python Using NumPy"
      ],
      "metadata": {
        "id": "Lzuzph-ZoGmi"
      }
    },
    {
      "cell_type": "markdown",
      "source": [
        "Creating NumPy Arrays"
      ],
      "metadata": {
        "id": "Hd6yoA1doLdE"
      }
    },
    {
      "cell_type": "code",
      "execution_count": 1,
      "metadata": {
        "id": "kaFjndBSoFmm"
      },
      "outputs": [],
      "source": [
        "import numpy as np"
      ]
    },
    {
      "cell_type": "code",
      "source": [
        "a1 = np.arange(10) # creates a range from 0 to 9\n",
        "print(a1) # [0 1 2 3 4 5 6 7 8 9]\n",
        "print(a1.shape) # (10,)"
      ],
      "metadata": {
        "colab": {
          "base_uri": "https://localhost:8080/"
        },
        "id": "mWNQprQqoOFH",
        "outputId": "dd0ff239-9961-4f80-c17a-d99071b58bf6"
      },
      "execution_count": 2,
      "outputs": [
        {
          "output_type": "stream",
          "name": "stdout",
          "text": [
            "[0 1 2 3 4 5 6 7 8 9]\n",
            "(10,)\n"
          ]
        }
      ]
    },
    {
      "cell_type": "code",
      "source": [
        "a2 = np.arange(0,10,2) # creates a range from 0 to 9, step 2\n",
        "print(a2) # [0 2 4 6 8]"
      ],
      "metadata": {
        "colab": {
          "base_uri": "https://localhost:8080/"
        },
        "id": "zpp5mhrAoSaS",
        "outputId": "d1c33deb-60a0-4aa5-9ac8-e627d47822bc"
      },
      "execution_count": 3,
      "outputs": [
        {
          "output_type": "stream",
          "name": "stdout",
          "text": [
            "[0 2 4 6 8]\n"
          ]
        }
      ]
    },
    {
      "cell_type": "code",
      "source": [
        "a3 = np.zeros(5) # create an array with all 0s\n",
        "print(a3) # [ 0. 0. 0. 0. 0.]\n",
        "print(a3.shape) # (5,)"
      ],
      "metadata": {
        "colab": {
          "base_uri": "https://localhost:8080/"
        },
        "id": "EwWofMEboVk0",
        "outputId": "007a0188-8da6-4ec9-889d-8a760291748f"
      },
      "execution_count": 4,
      "outputs": [
        {
          "output_type": "stream",
          "name": "stdout",
          "text": [
            "[0. 0. 0. 0. 0.]\n",
            "(5,)\n"
          ]
        }
      ]
    },
    {
      "cell_type": "code",
      "source": [
        "a4 = np.zeros((2,3)) # array of rank 2 with all 0s; 2 rows and 3 \n",
        " # columns\n",
        "print(a4.shape) # (2,3)\n",
        "print(a4)\n",
        "'''\n",
        "[[ 0. 0. 0.]\n",
        " [ 0. 0. 0.]]\n",
        "'''"
      ],
      "metadata": {
        "colab": {
          "base_uri": "https://localhost:8080/",
          "height": 90
        },
        "id": "VTnCW2fJoXa5",
        "outputId": "b136a801-18a3-488c-90af-3773231b6c75"
      },
      "execution_count": 5,
      "outputs": [
        {
          "output_type": "stream",
          "name": "stdout",
          "text": [
            "(2, 3)\n",
            "[[0. 0. 0.]\n",
            " [0. 0. 0.]]\n"
          ]
        },
        {
          "output_type": "execute_result",
          "data": {
            "text/plain": [
              "'\\n[[ 0. 0. 0.]\\n [ 0. 0. 0.]]\\n'"
            ],
            "application/vnd.google.colaboratory.intrinsic+json": {
              "type": "string"
            }
          },
          "metadata": {},
          "execution_count": 5
        }
      ]
    },
    {
      "cell_type": "code",
      "source": [
        "a5 = np.full((2,3), 8) # array of rank 2 with all 8s\n",
        "print(a5)\n",
        "'''\n",
        "[[8 8 8]\n",
        " [8 8 8]]\n",
        "'''"
      ],
      "metadata": {
        "colab": {
          "base_uri": "https://localhost:8080/",
          "height": 72
        },
        "id": "Ser9VFhsob4n",
        "outputId": "5b4b0d92-c116-4b7d-d2dd-0dfc6c39e344"
      },
      "execution_count": 6,
      "outputs": [
        {
          "output_type": "stream",
          "name": "stdout",
          "text": [
            "[[8 8 8]\n",
            " [8 8 8]]\n"
          ]
        },
        {
          "output_type": "execute_result",
          "data": {
            "text/plain": [
              "'\\n[[8 8 8]\\n [8 8 8]]\\n'"
            ],
            "application/vnd.google.colaboratory.intrinsic+json": {
              "type": "string"
            }
          },
          "metadata": {},
          "execution_count": 6
        }
      ]
    },
    {
      "cell_type": "code",
      "source": [
        "a6 = np.eye(4) # 4x4 identity matrix\n",
        "print(a6)\n",
        "'''\n",
        "[[ 1. 0. 0. 0.]\n",
        " [ 0. 1. 0. 0.]\n",
        " [ 0. 0. 1. 0.]\n",
        " [ 0. 0. 0. 1.]]\n",
        "'''"
      ],
      "metadata": {
        "colab": {
          "base_uri": "https://localhost:8080/",
          "height": 109
        },
        "id": "IuQ39s-7oeNx",
        "outputId": "e86db0c3-12ea-40e7-c94e-7b7be6c3a9b6"
      },
      "execution_count": 7,
      "outputs": [
        {
          "output_type": "stream",
          "name": "stdout",
          "text": [
            "[[1. 0. 0. 0.]\n",
            " [0. 1. 0. 0.]\n",
            " [0. 0. 1. 0.]\n",
            " [0. 0. 0. 1.]]\n"
          ]
        },
        {
          "output_type": "execute_result",
          "data": {
            "text/plain": [
              "'\\n[[ 1. 0. 0. 0.]\\n [ 0. 1. 0. 0.]\\n [ 0. 0. 1. 0.]\\n [ 0. 0. 0. 1.]]\\n'"
            ],
            "application/vnd.google.colaboratory.intrinsic+json": {
              "type": "string"
            }
          },
          "metadata": {},
          "execution_count": 7
        }
      ]
    },
    {
      "cell_type": "code",
      "source": [
        "a7 = np.random.random((2,4)) # rank 2 array (2 rows 4 columns) with \n",
        " # random values\n",
        " # in the half-open interval [0.0, 1.0)\n",
        "print(a7)\n",
        "'''\n",
        "[[ 0.48255806 0.23928884 0.99861279 0.4624779 ]\n",
        " [ 0.18721584 0.71287041 0.84619432 0.65990083]]\n",
        "'''"
      ],
      "metadata": {
        "colab": {
          "base_uri": "https://localhost:8080/",
          "height": 72
        },
        "id": "MohOwXc9og_t",
        "outputId": "0704fe10-d369-4581-9072-4bd3a15b9b83"
      },
      "execution_count": 8,
      "outputs": [
        {
          "output_type": "stream",
          "name": "stdout",
          "text": [
            "[[0.4811091  0.8714105  0.53421787 0.03426724]\n",
            " [0.03239751 0.41932479 0.04589085 0.22640891]]\n"
          ]
        },
        {
          "output_type": "execute_result",
          "data": {
            "text/plain": [
              "'\\n[[ 0.48255806 0.23928884 0.99861279 0.4624779 ]\\n [ 0.18721584 0.71287041 0.84619432 0.65990083]]\\n'"
            ],
            "application/vnd.google.colaboratory.intrinsic+json": {
              "type": "string"
            }
          },
          "metadata": {},
          "execution_count": 8
        }
      ]
    },
    {
      "cell_type": "code",
      "source": [
        "list1 = [1,2,3,4,5] # list1 is a list in Python\n",
        "r1 = np.array(list1) # rank 1 array\n",
        "print(r1) # [1 2 3 4 5]"
      ],
      "metadata": {
        "colab": {
          "base_uri": "https://localhost:8080/"
        },
        "id": "JoresxsEojE4",
        "outputId": "7a655f1e-9407-4acd-ed66-479efb9b2ee9"
      },
      "execution_count": 9,
      "outputs": [
        {
          "output_type": "stream",
          "name": "stdout",
          "text": [
            "[1 2 3 4 5]\n"
          ]
        }
      ]
    },
    {
      "cell_type": "code",
      "source": [
        "print(r1[0]) # 1\n",
        "print(r1[1]) # 2"
      ],
      "metadata": {
        "colab": {
          "base_uri": "https://localhost:8080/"
        },
        "id": "HugDdTshomy4",
        "outputId": "a50b8708-e8db-4706-b6fc-8ff5de449198"
      },
      "execution_count": 10,
      "outputs": [
        {
          "output_type": "stream",
          "name": "stdout",
          "text": [
            "1\n",
            "2\n"
          ]
        }
      ]
    },
    {
      "cell_type": "code",
      "source": [
        "list2 = [6,7,8,9,0]\n",
        "r2 = np.array([list1,list2]) # rank 2 array\n",
        "print(r2)\n",
        "'''\n",
        "[[1 2 3 4 5]\n",
        " [6 7 8 9 0]]\n",
        "'''\n",
        "print(r2.shape) # (2,5) - 2 rows and 5 columns\n",
        "print(r2[0,0]) # 1\n",
        "print(r2[0,1]) # 2\n",
        "print(r2[1,0]) # 6"
      ],
      "metadata": {
        "colab": {
          "base_uri": "https://localhost:8080/"
        },
        "id": "3wPIWllSopcU",
        "outputId": "e2e9046a-04d8-48df-e6f1-11684bc79fd9"
      },
      "execution_count": 11,
      "outputs": [
        {
          "output_type": "stream",
          "name": "stdout",
          "text": [
            "[[1 2 3 4 5]\n",
            " [6 7 8 9 0]]\n",
            "(2, 5)\n",
            "1\n",
            "2\n",
            "6\n"
          ]
        }
      ]
    },
    {
      "cell_type": "markdown",
      "source": [
        "Boolean Indexing"
      ],
      "metadata": {
        "id": "AM5M6NzuovO5"
      }
    },
    {
      "cell_type": "code",
      "source": [
        "print(r1>2) # [False False True True True]"
      ],
      "metadata": {
        "colab": {
          "base_uri": "https://localhost:8080/"
        },
        "id": "od0qTO_EosKN",
        "outputId": "261c41a5-70b9-4751-f9ae-bcc8bac88adf"
      },
      "execution_count": 12,
      "outputs": [
        {
          "output_type": "stream",
          "name": "stdout",
          "text": [
            "[False False  True  True  True]\n"
          ]
        }
      ]
    },
    {
      "cell_type": "code",
      "source": [
        "print(r1[r1>2]) # [3 4 5]\n"
      ],
      "metadata": {
        "colab": {
          "base_uri": "https://localhost:8080/"
        },
        "id": "AeqMjjc_oyX8",
        "outputId": "a04b5796-d2a6-494f-dccd-5d5c1451f88e"
      },
      "execution_count": 13,
      "outputs": [
        {
          "output_type": "stream",
          "name": "stdout",
          "text": [
            "[3 4 5]\n"
          ]
        }
      ]
    },
    {
      "cell_type": "code",
      "source": [
        "nums = np.arange(20)\n",
        "print(nums) # [ 0 1 2 3 4 5 6 7 8 9 10 11 12 13 14 15 16 \n",
        "# 17 18 19]"
      ],
      "metadata": {
        "colab": {
          "base_uri": "https://localhost:8080/"
        },
        "id": "fMSORqrjo0E9",
        "outputId": "a66f86a2-987f-4b32-db10-86adea3cfbcf"
      },
      "execution_count": 15,
      "outputs": [
        {
          "output_type": "stream",
          "name": "stdout",
          "text": [
            "[ 0  1  2  3  4  5  6  7  8  9 10 11 12 13 14 15 16 17 18 19]\n"
          ]
        }
      ]
    },
    {
      "cell_type": "code",
      "source": [
        "odd_num = nums[nums % 2 == 1]\n",
        "print(odd_num) # [ 1 3 5 7 9 11 13 15 17 19]"
      ],
      "metadata": {
        "colab": {
          "base_uri": "https://localhost:8080/"
        },
        "id": "UTeRqx55o3S4",
        "outputId": "91d4dc35-26c0-447d-855e-a003bc823156"
      },
      "execution_count": 16,
      "outputs": [
        {
          "output_type": "stream",
          "name": "stdout",
          "text": [
            "[ 1  3  5  7  9 11 13 15 17 19]\n"
          ]
        }
      ]
    },
    {
      "cell_type": "markdown",
      "source": [
        "Slicing Arrays"
      ],
      "metadata": {
        "id": "N2JIPDvXo-vh"
      }
    },
    {
      "cell_type": "code",
      "source": [
        "a = np.array([[1,2,3,4,5],\n",
        " [4,5,6,7,8],\n",
        " [9,8,7,6,5]]) # rank 2 array\n",
        "print(a)\n",
        "'''\n",
        "[[1 2 3 4 5]\n",
        " [4 5 6 7 8]\n",
        " [9 8 7 6 5]]\n",
        "'''"
      ],
      "metadata": {
        "colab": {
          "base_uri": "https://localhost:8080/",
          "height": 90
        },
        "id": "1Sij6NBuo8wp",
        "outputId": "c035a6e4-466c-4b74-bfe8-2781600747bc"
      },
      "execution_count": 17,
      "outputs": [
        {
          "output_type": "stream",
          "name": "stdout",
          "text": [
            "[[1 2 3 4 5]\n",
            " [4 5 6 7 8]\n",
            " [9 8 7 6 5]]\n"
          ]
        },
        {
          "output_type": "execute_result",
          "data": {
            "text/plain": [
              "'\\n[[1 2 3 4 5]\\n [4 5 6 7 8]\\n [9 8 7 6 5]]\\n'"
            ],
            "application/vnd.google.colaboratory.intrinsic+json": {
              "type": "string"
            }
          },
          "metadata": {},
          "execution_count": 17
        }
      ]
    },
    {
      "cell_type": "code",
      "source": [
        "b1 = a[1:3, :3] # row 1 to 3 (not inclusive) and first 3 columns\n",
        "print(b1)"
      ],
      "metadata": {
        "colab": {
          "base_uri": "https://localhost:8080/"
        },
        "id": "YsztkQIFpAy7",
        "outputId": "2c94933a-6593-4ca4-8d9e-b85b708799a9"
      },
      "execution_count": 18,
      "outputs": [
        {
          "output_type": "stream",
          "name": "stdout",
          "text": [
            "[[4 5 6]\n",
            " [9 8 7]]\n"
          ]
        }
      ]
    },
    {
      "cell_type": "code",
      "source": [
        "b2 = a[-2:,-2:]\n",
        "print(b2)"
      ],
      "metadata": {
        "colab": {
          "base_uri": "https://localhost:8080/"
        },
        "id": "vBp48PixpCvn",
        "outputId": "ea44a6c2-89e2-4f39-fb92-8108bdce9ed0"
      },
      "execution_count": 19,
      "outputs": [
        {
          "output_type": "stream",
          "name": "stdout",
          "text": [
            "[[7 8]\n",
            " [6 5]]\n"
          ]
        }
      ]
    },
    {
      "cell_type": "markdown",
      "source": [
        "NumPy Slice Is a Reference"
      ],
      "metadata": {
        "id": "wE5MGUxRpIJv"
      }
    },
    {
      "cell_type": "code",
      "source": [
        "b3 = a[1:, 2:] # row 1 onwards and column 2 onwards\n",
        " # b3 is now pointing to a subset of a\n",
        "print(b3)"
      ],
      "metadata": {
        "colab": {
          "base_uri": "https://localhost:8080/"
        },
        "id": "0x9S6qMBpFzq",
        "outputId": "f99969a7-6618-4881-bca8-11e4ec866916"
      },
      "execution_count": 20,
      "outputs": [
        {
          "output_type": "stream",
          "name": "stdout",
          "text": [
            "[[6 7 8]\n",
            " [7 6 5]]\n"
          ]
        }
      ]
    },
    {
      "cell_type": "code",
      "source": [
        "b3[0,2] = 88 # b3[0,2] is pointing to a[1,4]; modifying it will \n",
        " # modify the original array\n",
        "print(a)"
      ],
      "metadata": {
        "colab": {
          "base_uri": "https://localhost:8080/"
        },
        "id": "e1YaPYYQpKVf",
        "outputId": "7c0260b0-aeec-4a1f-893a-16f1d130da2d"
      },
      "execution_count": 21,
      "outputs": [
        {
          "output_type": "stream",
          "name": "stdout",
          "text": [
            "[[ 1  2  3  4  5]\n",
            " [ 4  5  6  7 88]\n",
            " [ 9  8  7  6  5]]\n"
          ]
        }
      ]
    },
    {
      "cell_type": "code",
      "source": [
        "b4 = a[2:, :] # row 2 onwards and all columns\n",
        "print(b4)\n",
        "print(b4.shape)"
      ],
      "metadata": {
        "colab": {
          "base_uri": "https://localhost:8080/"
        },
        "id": "2p3ky5D9pMmn",
        "outputId": "3336282b-9708-4438-d15f-a15816b8157a"
      },
      "execution_count": 22,
      "outputs": [
        {
          "output_type": "stream",
          "name": "stdout",
          "text": [
            "[[9 8 7 6 5]]\n",
            "(1, 5)\n"
          ]
        }
      ]
    },
    {
      "cell_type": "code",
      "source": [
        "b5 = a[2, :] # row 2 and all columns\n",
        "print(b5) # b5 is rank 1"
      ],
      "metadata": {
        "colab": {
          "base_uri": "https://localhost:8080/"
        },
        "id": "hOifYM0ypPG2",
        "outputId": "d6579275-a790-455e-af36-b503c3c566c6"
      },
      "execution_count": 24,
      "outputs": [
        {
          "output_type": "stream",
          "name": "stdout",
          "text": [
            "[9 8 7 6 5]\n"
          ]
        }
      ]
    },
    {
      "cell_type": "code",
      "source": [
        "print(b5.shape) # (5,)"
      ],
      "metadata": {
        "colab": {
          "base_uri": "https://localhost:8080/"
        },
        "id": "4dBvundPpQmw",
        "outputId": "534aefb6-fbc5-461d-f21d-b0de9eac9f24"
      },
      "execution_count": 25,
      "outputs": [
        {
          "output_type": "stream",
          "name": "stdout",
          "text": [
            "(5,)\n"
          ]
        }
      ]
    },
    {
      "cell_type": "markdown",
      "source": [
        "Reshaping Arrays"
      ],
      "metadata": {
        "id": "j5RwHCEspY8I"
      }
    },
    {
      "cell_type": "code",
      "source": [
        "b5 = b5.reshape(1,-1)\n",
        "print(b5)\n",
        "'''\n",
        "[[9 8 7 6 5]]\n",
        "'''"
      ],
      "metadata": {
        "colab": {
          "base_uri": "https://localhost:8080/",
          "height": 54
        },
        "id": "vu4AX4ZzpXGN",
        "outputId": "f538a4be-b102-487f-acc8-9e5a6dca5e84"
      },
      "execution_count": 26,
      "outputs": [
        {
          "output_type": "stream",
          "name": "stdout",
          "text": [
            "[[9 8 7 6 5]]\n"
          ]
        },
        {
          "output_type": "execute_result",
          "data": {
            "text/plain": [
              "'\\n[[9 8 7 6 5]]\\n'"
            ],
            "application/vnd.google.colaboratory.intrinsic+json": {
              "type": "string"
            }
          },
          "metadata": {},
          "execution_count": 26
        }
      ]
    },
    {
      "cell_type": "code",
      "source": [
        "b4.reshape(-1,)\n",
        "'''\n",
        "[9 8 7 6 5]\n",
        "'''"
      ],
      "metadata": {
        "colab": {
          "base_uri": "https://localhost:8080/",
          "height": 35
        },
        "id": "k6mzBUtUpggV",
        "outputId": "415b8c11-f3aa-4f96-bd12-8d31a959ebc3"
      },
      "execution_count": 27,
      "outputs": [
        {
          "output_type": "execute_result",
          "data": {
            "text/plain": [
              "'\\n[9 8 7 6 5]\\n'"
            ],
            "application/vnd.google.colaboratory.intrinsic+json": {
              "type": "string"
            }
          },
          "metadata": {},
          "execution_count": 27
        }
      ]
    },
    {
      "cell_type": "markdown",
      "source": [
        "Array Math"
      ],
      "metadata": {
        "id": "SOOeeoNrpd4B"
      }
    },
    {
      "cell_type": "code",
      "source": [
        "x1 = np.array([[1,2,3],[4,5,6]])\n",
        "y1 = np.array([[7,8,9],[2,3,4]])"
      ],
      "metadata": {
        "id": "nSRxbzNapbHD"
      },
      "execution_count": 28,
      "outputs": []
    },
    {
      "cell_type": "code",
      "source": [
        "print(x1 + y1)"
      ],
      "metadata": {
        "colab": {
          "base_uri": "https://localhost:8080/"
        },
        "id": "BA3Mw2ZEpksq",
        "outputId": "cea7ca37-6017-40b6-b8e3-2bd51fc8aa3c"
      },
      "execution_count": 29,
      "outputs": [
        {
          "output_type": "stream",
          "name": "stdout",
          "text": [
            "[[ 8 10 12]\n",
            " [ 6  8 10]]\n"
          ]
        }
      ]
    },
    {
      "cell_type": "code",
      "source": [
        "x = np.array([2,3])\n",
        "y = np.array([4,2])\n",
        "z = x + y\n",
        "'''\n",
        "[6 5]\n",
        "'''\n"
      ],
      "metadata": {
        "colab": {
          "base_uri": "https://localhost:8080/",
          "height": 35
        },
        "id": "fzA1rAyLpm_M",
        "outputId": "23bd011f-f259-457c-8d5f-a50d8f13c181"
      },
      "execution_count": 30,
      "outputs": [
        {
          "output_type": "execute_result",
          "data": {
            "text/plain": [
              "'\\n[6 5]\\n'"
            ],
            "application/vnd.google.colaboratory.intrinsic+json": {
              "type": "string"
            }
          },
          "metadata": {},
          "execution_count": 30
        }
      ]
    },
    {
      "cell_type": "code",
      "source": [
        "np.add(x1,y1)"
      ],
      "metadata": {
        "colab": {
          "base_uri": "https://localhost:8080/"
        },
        "id": "nXBsU0Dipo51",
        "outputId": "524f53c4-5dff-4717-edaf-a903a094cef3"
      },
      "execution_count": 31,
      "outputs": [
        {
          "output_type": "execute_result",
          "data": {
            "text/plain": [
              "array([[ 8, 10, 12],\n",
              "       [ 6,  8, 10]])"
            ]
          },
          "metadata": {},
          "execution_count": 31
        }
      ]
    },
    {
      "cell_type": "code",
      "source": [
        "print(x1 - y1) # same as np.subtract(x1,y1)\n",
        "'''\n",
        "[[-6 -6 -6]\n",
        " [ 2 2 2]]\n",
        "'''\n",
        "print(x1 * y1) # same as np.multiply(x1,y1)\n",
        "'''\n",
        "[[ 7 16 27]\n",
        " [ 8 15 24]]\n",
        "'''\n",
        "print(x1 / y1) # same as np.divide(x1,y1)\n",
        "'''\n",
        "[[ 0.14285714 0.25 0.33333333]\n",
        " [ 2. 1.66666667 1.5 ]]\n",
        "'''"
      ],
      "metadata": {
        "colab": {
          "base_uri": "https://localhost:8080/",
          "height": 146
        },
        "id": "0DXABrd0prJA",
        "outputId": "31fddbb5-9e6a-4023-cd44-5f851d8874e7"
      },
      "execution_count": 32,
      "outputs": [
        {
          "output_type": "stream",
          "name": "stdout",
          "text": [
            "[[-6 -6 -6]\n",
            " [ 2  2  2]]\n",
            "[[ 7 16 27]\n",
            " [ 8 15 24]]\n",
            "[[0.14285714 0.25       0.33333333]\n",
            " [2.         1.66666667 1.5       ]]\n"
          ]
        },
        {
          "output_type": "execute_result",
          "data": {
            "text/plain": [
              "'\\n[[ 0.14285714 0.25 0.33333333]\\n [ 2. 1.66666667 1.5 ]]\\n'"
            ],
            "application/vnd.google.colaboratory.intrinsic+json": {
              "type": "string"
            }
          },
          "metadata": {},
          "execution_count": 32
        }
      ]
    },
    {
      "cell_type": "code",
      "source": [
        "names = np.array(['Ann','Joe','Mark'])\n",
        "heights = np.array([1.5, 1.78, 1.6])\n",
        "weights = np.array([65, 46, 59])"
      ],
      "metadata": {
        "id": "nSQ0SsHMptpx"
      },
      "execution_count": 33,
      "outputs": []
    },
    {
      "cell_type": "code",
      "source": [
        "bmi = weights/heights **2 # calculate the BMI\n",
        "print(bmi) # [ 28.88888889 14.51836889 \n",
        "# 23.046875 ]"
      ],
      "metadata": {
        "colab": {
          "base_uri": "https://localhost:8080/"
        },
        "id": "lh-RV0BTpx7h",
        "outputId": "2934abfd-0562-4963-efe4-5069cd11a722"
      },
      "execution_count": 35,
      "outputs": [
        {
          "output_type": "stream",
          "name": "stdout",
          "text": [
            "[28.88888889 14.51836889 23.046875  ]\n"
          ]
        }
      ]
    },
    {
      "cell_type": "code",
      "source": [
        "print(\"Overweight: \" , names[bmi>25]) \n",
        "# Overweight: ['Ann']\n",
        "print(\"Underweight: \" , names[bmi<18.5]) \n",
        "# Underweight: ['Joe']\n",
        "print(\"Healthy: \" , names[(bmi>=18.5) & (bmi<=25)]) \n",
        "# Healthy: ['Mark']"
      ],
      "metadata": {
        "colab": {
          "base_uri": "https://localhost:8080/"
        },
        "id": "RtTssgGNpz_B",
        "outputId": "e8e702b7-d081-4468-b3eb-ffc52f56a860"
      },
      "execution_count": 36,
      "outputs": [
        {
          "output_type": "stream",
          "name": "stdout",
          "text": [
            "Overweight:  ['Ann']\n",
            "Underweight:  ['Joe']\n",
            "Healthy:  ['Mark']\n"
          ]
        }
      ]
    },
    {
      "cell_type": "markdown",
      "source": [
        "Dot Product"
      ],
      "metadata": {
        "id": "T-qdJbiWp9R5"
      }
    },
    {
      "cell_type": "code",
      "source": [
        "x = np.array([2,3])\n",
        "y = np.array([4,2])\n",
        "np.dot(x,y) # 2x4 + 3x2 = 14 \n"
      ],
      "metadata": {
        "colab": {
          "base_uri": "https://localhost:8080/"
        },
        "id": "Iix1UzNgp7Xn",
        "outputId": "d393ecdb-6557-485c-9341-4260b7b9ef41"
      },
      "execution_count": 37,
      "outputs": [
        {
          "output_type": "execute_result",
          "data": {
            "text/plain": [
              "14"
            ]
          },
          "metadata": {},
          "execution_count": 37
        }
      ]
    },
    {
      "cell_type": "code",
      "source": [
        "x2 = np.array([[1,2,3],[4,5,6]])\n",
        "y2 = np.array([[7,8],[9,10], [11,12]])\n",
        "print(np.dot(x2,y2)) # matrix multiplication\n",
        "'''\n",
        "[[ 58 64]\n",
        " [139 154]]\n",
        " '''"
      ],
      "metadata": {
        "colab": {
          "base_uri": "https://localhost:8080/",
          "height": 72
        },
        "id": "9TQvKAWsp_z4",
        "outputId": "5358feb0-1e26-4a80-ccc8-76eb8d4af780"
      },
      "execution_count": 38,
      "outputs": [
        {
          "output_type": "stream",
          "name": "stdout",
          "text": [
            "[[ 58  64]\n",
            " [139 154]]\n"
          ]
        },
        {
          "output_type": "execute_result",
          "data": {
            "text/plain": [
              "'\\n[[ 58 64]\\n [139 154]]\\n '"
            ],
            "application/vnd.google.colaboratory.intrinsic+json": {
              "type": "string"
            }
          },
          "metadata": {},
          "execution_count": 38
        }
      ]
    },
    {
      "cell_type": "markdown",
      "source": [
        "Matrix"
      ],
      "metadata": {
        "id": "0o9CMsEXrKCF"
      }
    },
    {
      "cell_type": "code",
      "source": [
        "x2 = np.matrix([[1,2],[4,5]])\n",
        "y2 = np.matrix([[7,8],[2,3]])"
      ],
      "metadata": {
        "id": "tjKtXpSfqBt7"
      },
      "execution_count": 39,
      "outputs": []
    },
    {
      "cell_type": "code",
      "source": [
        "x1 = np.array([[1,2],[4,5]])\n",
        "y1 = np.array([[7,8],[2,3]])\n",
        "x1 = np.asmatrix(x1)\n",
        "y1 = np.asmatrix(y1)"
      ],
      "metadata": {
        "id": "rJx96TpwrMGn"
      },
      "execution_count": 40,
      "outputs": []
    },
    {
      "cell_type": "code",
      "source": [
        "x1 = np.array([[1,2],[4,5]])\n",
        "y1 = np.array([[7,8],[2,3]])\n",
        "print(x1 * y1) # element-by-element multiplication\n",
        "'''\n",
        "[[ 7 16]\n",
        " [ 8 15]]\n",
        "'''\n",
        "x2 = np.matrix([[1,2],[4,5]])\n",
        "y2 = np.matrix([[7,8],[2,3]])\n",
        "print(x2 * y2) # dot product; same as np.dot()\n",
        "'''\n",
        "[[11 14]\n",
        " [38 47]]\n",
        "'''\n"
      ],
      "metadata": {
        "colab": {
          "base_uri": "https://localhost:8080/",
          "height": 109
        },
        "id": "agVC0srmrOcD",
        "outputId": "cb7ecc04-ea76-4e2f-a30c-d9704cd4491b"
      },
      "execution_count": 41,
      "outputs": [
        {
          "output_type": "stream",
          "name": "stdout",
          "text": [
            "[[ 7 16]\n",
            " [ 8 15]]\n",
            "[[11 14]\n",
            " [38 47]]\n"
          ]
        },
        {
          "output_type": "execute_result",
          "data": {
            "text/plain": [
              "'\\n[[11 14]\\n [38 47]]\\n'"
            ],
            "application/vnd.google.colaboratory.intrinsic+json": {
              "type": "string"
            }
          },
          "metadata": {},
          "execution_count": 41
        }
      ]
    },
    {
      "cell_type": "markdown",
      "source": [
        "Cumulative Sum"
      ],
      "metadata": {
        "id": "-hF1yGAVrSby"
      }
    },
    {
      "cell_type": "code",
      "source": [
        "a = np.array([(1,2,3),(4,5,6), (7,8,9)])\n",
        "print(a)\n",
        "'''\n",
        "[[1 2 3]\n",
        " [4 5 6]\n",
        " [7 8 9]]\n",
        "'''"
      ],
      "metadata": {
        "colab": {
          "base_uri": "https://localhost:8080/",
          "height": 90
        },
        "id": "9eoC2EBjrQcE",
        "outputId": "c5591a99-ef6c-40ae-8d87-eceafd87dd25"
      },
      "execution_count": 42,
      "outputs": [
        {
          "output_type": "stream",
          "name": "stdout",
          "text": [
            "[[1 2 3]\n",
            " [4 5 6]\n",
            " [7 8 9]]\n"
          ]
        },
        {
          "output_type": "execute_result",
          "data": {
            "text/plain": [
              "'\\n[[1 2 3]\\n [4 5 6]\\n [7 8 9]]\\n'"
            ],
            "application/vnd.google.colaboratory.intrinsic+json": {
              "type": "string"
            }
          },
          "metadata": {},
          "execution_count": 42
        }
      ]
    },
    {
      "cell_type": "code",
      "source": [
        "print(a.cumsum()) # prints the cumulative sum of all the\n",
        " # elements in the array\n",
        " # [ 1 3 6 10 15 21 28 36 45]"
      ],
      "metadata": {
        "colab": {
          "base_uri": "https://localhost:8080/"
        },
        "id": "cWAs7MdTrUo5",
        "outputId": "7e2baa14-a392-4d1c-a089-3bc9c2b518e3"
      },
      "execution_count": 43,
      "outputs": [
        {
          "output_type": "stream",
          "name": "stdout",
          "text": [
            "[ 1  3  6 10 15 21 28 36 45]\n"
          ]
        }
      ]
    },
    {
      "cell_type": "code",
      "source": [
        "print(a.cumsum(axis=0)) # sum over rows for each of the 3 columns\n",
        "'''\n",
        "[[ 1 2 3]\n",
        " [ 5 7 9]\n",
        " [12 15 18]]\n",
        "'''"
      ],
      "metadata": {
        "colab": {
          "base_uri": "https://localhost:8080/",
          "height": 90
        },
        "id": "4tMY8RcjrWz1",
        "outputId": "663b55b2-4505-4997-e196-df869e2ec571"
      },
      "execution_count": 44,
      "outputs": [
        {
          "output_type": "stream",
          "name": "stdout",
          "text": [
            "[[ 1  2  3]\n",
            " [ 5  7  9]\n",
            " [12 15 18]]\n"
          ]
        },
        {
          "output_type": "execute_result",
          "data": {
            "text/plain": [
              "'\\n[[ 1 2 3]\\n [ 5 7 9]\\n [12 15 18]]\\n'"
            ],
            "application/vnd.google.colaboratory.intrinsic+json": {
              "type": "string"
            }
          },
          "metadata": {},
          "execution_count": 44
        }
      ]
    },
    {
      "cell_type": "code",
      "source": [
        "print(a.cumsum(axis=1)) # sum over columns for each of the 3 rows\n",
        "'''\n",
        "[[ 1 3 6]\n",
        " [ 4 9 15]\n",
        " [ 7 15 24]]\n",
        "'''"
      ],
      "metadata": {
        "colab": {
          "base_uri": "https://localhost:8080/",
          "height": 90
        },
        "id": "86BtsacKrsAL",
        "outputId": "56e61d64-b3e0-442a-86a4-04e1d3228d8e"
      },
      "execution_count": 45,
      "outputs": [
        {
          "output_type": "stream",
          "name": "stdout",
          "text": [
            "[[ 1  3  6]\n",
            " [ 4  9 15]\n",
            " [ 7 15 24]]\n"
          ]
        },
        {
          "output_type": "execute_result",
          "data": {
            "text/plain": [
              "'\\n[[ 1 3 6]\\n [ 4 9 15]\\n [ 7 15 24]]\\n'"
            ],
            "application/vnd.google.colaboratory.intrinsic+json": {
              "type": "string"
            }
          },
          "metadata": {},
          "execution_count": 45
        }
      ]
    },
    {
      "cell_type": "markdown",
      "source": [
        "NumPy Sorting"
      ],
      "metadata": {
        "id": "j5sUBTXIrwFX"
      }
    },
    {
      "cell_type": "code",
      "source": [
        "ages = np.array([34,12,37,5,13])\n",
        "sorted_ages = np.sort(ages) # does not modify the original array\n",
        "print(sorted_ages) # [ 5 12 13 34 37]\n",
        "print(ages) # [34 12 37 5 13]"
      ],
      "metadata": {
        "colab": {
          "base_uri": "https://localhost:8080/"
        },
        "id": "TFBIjBa4rt4D",
        "outputId": "4f14fa17-fe11-47ad-fbdb-6f83d8e14f7c"
      },
      "execution_count": 46,
      "outputs": [
        {
          "output_type": "stream",
          "name": "stdout",
          "text": [
            "[ 5 12 13 34 37]\n",
            "[34 12 37  5 13]\n"
          ]
        }
      ]
    },
    {
      "cell_type": "code",
      "source": [
        "ages.sort() # modifies the array\n",
        "print(ages) # [ 5 12 13 34 37]"
      ],
      "metadata": {
        "colab": {
          "base_uri": "https://localhost:8080/"
        },
        "id": "MDGXUbs7r0Yx",
        "outputId": "b36fbf3e-e2cb-4530-8648-20b042c57855"
      },
      "execution_count": 47,
      "outputs": [
        {
          "output_type": "stream",
          "name": "stdout",
          "text": [
            "[ 5 12 13 34 37]\n"
          ]
        }
      ]
    },
    {
      "cell_type": "code",
      "source": [
        "ages = np.array([34,12,37,5,13])\n",
        "print(ages.argsort()) # [3 1 4 0 2]"
      ],
      "metadata": {
        "colab": {
          "base_uri": "https://localhost:8080/"
        },
        "id": "QnpJiYS_r01R",
        "outputId": "aebf2e45-753f-4432-d221-59fa8dd0b631"
      },
      "execution_count": 48,
      "outputs": [
        {
          "output_type": "stream",
          "name": "stdout",
          "text": [
            "[3 1 4 0 2]\n"
          ]
        }
      ]
    },
    {
      "cell_type": "code",
      "source": [
        "print(ages[ages.argsort()]) # [ 5 12 13 34 37]"
      ],
      "metadata": {
        "colab": {
          "base_uri": "https://localhost:8080/"
        },
        "id": "cNCTxMpor2ZX",
        "outputId": "1a8e6eb0-344c-447a-ae76-a1af19a82e52"
      },
      "execution_count": 49,
      "outputs": [
        {
          "output_type": "stream",
          "name": "stdout",
          "text": [
            "[ 5 12 13 34 37]\n"
          ]
        }
      ]
    },
    {
      "cell_type": "code",
      "source": [
        "persons = np.array(['Johnny','Mary','Peter','Will','Joe'])\n",
        "ages = np.array([34,12,37,5,13])\n",
        "heights = np.array([1.76,1.2,1.68,0.5,1.25])\n"
      ],
      "metadata": {
        "id": "B9fv6nD2r4hl"
      },
      "execution_count": 50,
      "outputs": []
    },
    {
      "cell_type": "code",
      "source": [
        "sort_indices = np.argsort(ages) # performs a sort based on ages\n",
        " # and returns an array of indices\n",
        " # indicating the sort order"
      ],
      "metadata": {
        "id": "T4g3j-0_r6PJ"
      },
      "execution_count": 51,
      "outputs": []
    },
    {
      "cell_type": "code",
      "source": [
        "print(persons[sort_indices]) # ['Will' 'Mary' 'Joe' 'Johnny' \n",
        "# 'Peter']\n",
        "print(ages[sort_indices]) # [ 5 12 13 34 37]\n",
        "print(heights[sort_indices]) # [ 0.5 1.2 1.25 1.76 1.68]"
      ],
      "metadata": {
        "colab": {
          "base_uri": "https://localhost:8080/"
        },
        "id": "VkByNoxfr75-",
        "outputId": "cb6b8261-dcb8-4188-96f0-f64d2c175a56"
      },
      "execution_count": 53,
      "outputs": [
        {
          "output_type": "stream",
          "name": "stdout",
          "text": [
            "['Will' 'Mary' 'Joe' 'Johnny' 'Peter']\n",
            "[ 5 12 13 34 37]\n",
            "[0.5  1.2  1.25 1.76 1.68]\n"
          ]
        }
      ]
    },
    {
      "cell_type": "code",
      "source": [
        "sort_indices = np.argsort(persons) # sort based on names\n",
        "print(persons[sort_indices]) # ['Joe' 'Johnny' 'Mary' 'Peter' \n",
        "# 'Will']\n",
        "print(ages[sort_indices]) # [13 34 12 37 5]\n",
        "print(heights[sort_indices]) # [ 1.25 1.76 1.2 1.68 0.5 ]"
      ],
      "metadata": {
        "colab": {
          "base_uri": "https://localhost:8080/"
        },
        "id": "U_Km8HgJr9cG",
        "outputId": "40a1c691-7f75-4add-f13b-698dc6491c24"
      },
      "execution_count": 55,
      "outputs": [
        {
          "output_type": "stream",
          "name": "stdout",
          "text": [
            "['Joe' 'Johnny' 'Mary' 'Peter' 'Will']\n",
            "[13 34 12 37  5]\n",
            "[1.25 1.76 1.2  1.68 0.5 ]\n"
          ]
        }
      ]
    },
    {
      "cell_type": "code",
      "source": [
        "reverse_sort_indices = np.argsort(persons)[::-1] # reverse the order of a list\n",
        "print(persons[reverse_sort_indices]) # ['Will' 'Peter' 'Mary' \n",
        " # 'Johnny' 'Joe']\n",
        "print(ages[reverse_sort_indices]) # [ 5 37 12 34 13]\n",
        "print(heights[reverse_sort_indices]) # [ 0.5 1.68 1.2 1.76 \n",
        " # 1.25]"
      ],
      "metadata": {
        "colab": {
          "base_uri": "https://localhost:8080/"
        },
        "id": "bOHfAmRRsH4C",
        "outputId": "4b45ef43-319d-4884-e22b-fc391b646010"
      },
      "execution_count": 56,
      "outputs": [
        {
          "output_type": "stream",
          "name": "stdout",
          "text": [
            "['Will' 'Peter' 'Mary' 'Johnny' 'Joe']\n",
            "[ 5 37 12 34 13]\n",
            "[0.5  1.68 1.2  1.76 1.25]\n"
          ]
        }
      ]
    },
    {
      "cell_type": "markdown",
      "source": [
        "Array Assignment"
      ],
      "metadata": {
        "id": "WnLA9q_8sM64"
      }
    },
    {
      "cell_type": "markdown",
      "source": [
        "Copying by Reference"
      ],
      "metadata": {
        "id": "1ab3fVSIsOyf"
      }
    },
    {
      "cell_type": "code",
      "source": [
        "list1 = [[1,2,3,4], [5,6,7,8]]\n",
        "a1 = np.array(list1)\n",
        "print(a1)\n",
        "'''\n",
        "[[1 2 3 4]\n",
        " [5 6 7 8]]\n",
        "'''\n"
      ],
      "metadata": {
        "colab": {
          "base_uri": "https://localhost:8080/",
          "height": 72
        },
        "id": "PbaGW1eNsQj7",
        "outputId": "59fca2de-1d0a-402e-d183-df804f0d7c1d"
      },
      "execution_count": 57,
      "outputs": [
        {
          "output_type": "stream",
          "name": "stdout",
          "text": [
            "[[1 2 3 4]\n",
            " [5 6 7 8]]\n"
          ]
        },
        {
          "output_type": "execute_result",
          "data": {
            "text/plain": [
              "'\\n[[1 2 3 4]\\n [5 6 7 8]]\\n'"
            ],
            "application/vnd.google.colaboratory.intrinsic+json": {
              "type": "string"
            }
          },
          "metadata": {},
          "execution_count": 57
        }
      ]
    },
    {
      "cell_type": "code",
      "source": [
        "a2 = a1 # creates a copy by reference\n",
        "print(a1)\n",
        "'''\n",
        "[[1 2 3 4]\n",
        " [5 6 7 8]]\n",
        "'''\n",
        "print(a2)\n",
        "'''\n",
        "[[1 2 3 4]\n",
        " [5 6 7 8]]\n",
        "'''"
      ],
      "metadata": {
        "colab": {
          "base_uri": "https://localhost:8080/",
          "height": 109
        },
        "id": "JvD7PBxMsQ_O",
        "outputId": "68d3b7b2-c69a-4225-cd1e-32cbaa2083a9"
      },
      "execution_count": 58,
      "outputs": [
        {
          "output_type": "stream",
          "name": "stdout",
          "text": [
            "[[1 2 3 4]\n",
            " [5 6 7 8]]\n",
            "[[1 2 3 4]\n",
            " [5 6 7 8]]\n"
          ]
        },
        {
          "output_type": "execute_result",
          "data": {
            "text/plain": [
              "'\\n[[1 2 3 4]\\n [5 6 7 8]]\\n'"
            ],
            "application/vnd.google.colaboratory.intrinsic+json": {
              "type": "string"
            }
          },
          "metadata": {},
          "execution_count": 58
        }
      ]
    },
    {
      "cell_type": "code",
      "source": [
        "a2[0][0] = 11 # make some changes to a2\n",
        "print(a1) # affects a1\n",
        "'''\n",
        "[[11 2 3 4]\n",
        " [ 5 6 7 8]]\n",
        "'''\n",
        "print(a2)\n",
        "'''\n",
        "[[11 2 3 4]\n",
        " [ 5 6 7 8]]\n",
        "'''\n"
      ],
      "metadata": {
        "colab": {
          "base_uri": "https://localhost:8080/",
          "height": 109
        },
        "id": "rYQiAebOsS5b",
        "outputId": "34a5bfd0-8267-42cd-d0a4-f7e80b47a903"
      },
      "execution_count": 59,
      "outputs": [
        {
          "output_type": "stream",
          "name": "stdout",
          "text": [
            "[[11  2  3  4]\n",
            " [ 5  6  7  8]]\n",
            "[[11  2  3  4]\n",
            " [ 5  6  7  8]]\n"
          ]
        },
        {
          "output_type": "execute_result",
          "data": {
            "text/plain": [
              "'\\n[[11 2 3 4]\\n [ 5 6 7 8]]\\n'"
            ],
            "application/vnd.google.colaboratory.intrinsic+json": {
              "type": "string"
            }
          },
          "metadata": {},
          "execution_count": 59
        }
      ]
    },
    {
      "cell_type": "code",
      "source": [
        "a1.shape = 1,-1 # reshape a1\n",
        "print(a1)\n",
        "'''\n",
        "[[11 2 3 4 5 6 7 8]]\n",
        "'''\n",
        "print(a2) # a2 also changes shape\n",
        "'''\n",
        "[[11 2 3 4 5 6 7 8]]\n",
        "'''"
      ],
      "metadata": {
        "colab": {
          "base_uri": "https://localhost:8080/",
          "height": 72
        },
        "id": "Cy2hTo0qsVnw",
        "outputId": "04120636-1328-44ae-b711-58538d5fe71a"
      },
      "execution_count": 61,
      "outputs": [
        {
          "output_type": "stream",
          "name": "stdout",
          "text": [
            "[[11  2  3  4  5  6  7  8]]\n",
            "[[11  2  3  4  5  6  7  8]]\n"
          ]
        },
        {
          "output_type": "execute_result",
          "data": {
            "text/plain": [
              "'\\n[[11 2 3 4 5 6 7 8]]\\n'"
            ],
            "application/vnd.google.colaboratory.intrinsic+json": {
              "type": "string"
            }
          },
          "metadata": {},
          "execution_count": 61
        }
      ]
    },
    {
      "cell_type": "markdown",
      "source": [
        "Copying by View (Shallow Copy)"
      ],
      "metadata": {
        "id": "uVJnHi3csd13"
      }
    },
    {
      "cell_type": "code",
      "source": [
        "a2 = a1.view() # creates a copy of a1 by reference; but changes\n",
        " # in dimension in a1 will not affect a2\n",
        "print(a1)\n",
        "'''\n",
        "[[1 2 3 4]\n",
        " [5 6 7 8]]\n",
        "'''\n",
        "print(a2)\n",
        "'''\n",
        "[[1 2 3 4]\n",
        " [5 6 7 8]]\n",
        "'''"
      ],
      "metadata": {
        "colab": {
          "base_uri": "https://localhost:8080/",
          "height": 72
        },
        "id": "kNgxC-MSsYY1",
        "outputId": "ef118201-0d9c-4c12-ff72-38ab0a87c23d"
      },
      "execution_count": 62,
      "outputs": [
        {
          "output_type": "stream",
          "name": "stdout",
          "text": [
            "[[11  2  3  4  5  6  7  8]]\n",
            "[[11  2  3  4  5  6  7  8]]\n"
          ]
        },
        {
          "output_type": "execute_result",
          "data": {
            "text/plain": [
              "'\\n[[1 2 3 4]\\n [5 6 7 8]]\\n'"
            ],
            "application/vnd.google.colaboratory.intrinsic+json": {
              "type": "string"
            }
          },
          "metadata": {},
          "execution_count": 62
        }
      ]
    },
    {
      "cell_type": "code",
      "source": [
        "a1[0][0] = 11 # make some changes in a1\n",
        "print(a1)\n",
        "'''\n",
        "[[11 2 3 4]\n",
        " [ 5 6 7 8]]\n",
        "'''\n",
        "print(a2) # changes is also seen in a2\n",
        "'''\n",
        "[[11 2 3 4]\n",
        " [ 5 6 7 8]]\n",
        "'''"
      ],
      "metadata": {
        "colab": {
          "base_uri": "https://localhost:8080/",
          "height": 72
        },
        "id": "-vYyNKLssflq",
        "outputId": "c6581338-27d8-404a-953d-a63e937cb398"
      },
      "execution_count": 63,
      "outputs": [
        {
          "output_type": "stream",
          "name": "stdout",
          "text": [
            "[[11  2  3  4  5  6  7  8]]\n",
            "[[11  2  3  4  5  6  7  8]]\n"
          ]
        },
        {
          "output_type": "execute_result",
          "data": {
            "text/plain": [
              "'\\n[[11 2 3 4]\\n [ 5 6 7 8]]\\n'"
            ],
            "application/vnd.google.colaboratory.intrinsic+json": {
              "type": "string"
            }
          },
          "metadata": {},
          "execution_count": 63
        }
      ]
    },
    {
      "cell_type": "code",
      "source": [
        "a1.shape = 1,-1 # change the shape of a1\n",
        "print(a1)\n",
        "'''\n",
        "[[11 2 3 4 5 6 7 8]]\n",
        "'''\n",
        "print(a2) # a2 does not change shape\n",
        "'''\n",
        "[[11 2 3 4]\n",
        " [ 5 6 7 8]]\n",
        "'''"
      ],
      "metadata": {
        "colab": {
          "base_uri": "https://localhost:8080/",
          "height": 72
        },
        "id": "T5-1tBpqshsM",
        "outputId": "ed723acf-a56d-4b38-964a-a1160c87617c"
      },
      "execution_count": 64,
      "outputs": [
        {
          "output_type": "stream",
          "name": "stdout",
          "text": [
            "[[11  2  3  4  5  6  7  8]]\n",
            "[[11  2  3  4  5  6  7  8]]\n"
          ]
        },
        {
          "output_type": "execute_result",
          "data": {
            "text/plain": [
              "'\\n[[11 2 3 4]\\n [ 5 6 7 8]]\\n'"
            ],
            "application/vnd.google.colaboratory.intrinsic+json": {
              "type": "string"
            }
          },
          "metadata": {},
          "execution_count": 64
        }
      ]
    },
    {
      "cell_type": "markdown",
      "source": [
        "Copying by Value (Deep Copy)"
      ],
      "metadata": {
        "id": "kuDmEkW2snNK"
      }
    },
    {
      "cell_type": "code",
      "source": [
        "list1 = [[1,2,3,4], [5,6,7,8]]\n",
        "a1 = np.array(list1)\n",
        "a2 = a1.copy() # create a copy of a1 by value (deep copy)"
      ],
      "metadata": {
        "id": "HQpUNOfPsknh"
      },
      "execution_count": 65,
      "outputs": []
    },
    {
      "cell_type": "code",
      "source": [
        "a1[0][0] = 11 # make some changes in a1\n",
        "print(a1)\n",
        "'''\n",
        "[[11 2 3 4]\n",
        " [ 5 6 7 8]]\n",
        "'''\n",
        "print(a2) # changes is not seen in a2\n",
        "'''\n",
        "[[1 2 3 4]\n",
        " [5 6 7 8]]\n",
        "'''\n",
        "a1.shape = 1,-1 # change the shape of a1\n",
        "print(a1)\n",
        "'''\n",
        "[[11 2 3 4 5 6 7 8]]\n",
        "'''\n",
        "print(a2) # a2 does not change shape\n",
        "'''\n",
        "[[1 2 3 4]\n",
        " [5 6 7 8]]\n",
        "'''\n"
      ],
      "metadata": {
        "colab": {
          "base_uri": "https://localhost:8080/",
          "height": 164
        },
        "id": "F4g_vebwsppd",
        "outputId": "d1485e74-7150-4bec-9a68-669780dc02c9"
      },
      "execution_count": 66,
      "outputs": [
        {
          "output_type": "stream",
          "name": "stdout",
          "text": [
            "[[11  2  3  4]\n",
            " [ 5  6  7  8]]\n",
            "[[1 2 3 4]\n",
            " [5 6 7 8]]\n",
            "[[11  2  3  4  5  6  7  8]]\n",
            "[[1 2 3 4]\n",
            " [5 6 7 8]]\n"
          ]
        },
        {
          "output_type": "execute_result",
          "data": {
            "text/plain": [
              "'\\n[[1 2 3 4]\\n [5 6 7 8]]\\n'"
            ],
            "application/vnd.google.colaboratory.intrinsic+json": {
              "type": "string"
            }
          },
          "metadata": {},
          "execution_count": 66
        }
      ]
    }
  ]
}